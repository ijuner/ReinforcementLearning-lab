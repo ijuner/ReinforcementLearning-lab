{
  "cells": [
    {
      "cell_type": "code",
      "execution_count": 9,
      "metadata": {
        "colab": {
          "base_uri": "https://localhost:8080/"
        },
        "id": "bvF9bhGboUhz",
        "outputId": "834368f9-ff65-4430-c0d9-bfff7d0b3671"
      },
      "outputs": [
        {
          "name": "stdout",
          "output_type": "stream",
          "text": [
            "Requirement already satisfied: gymnasium in /usr/local/lib/python3.11/dist-packages (1.1.1)\n",
            "Requirement already satisfied: torch in /usr/local/lib/python3.11/dist-packages (2.5.1+cu124)\n",
            "Requirement already satisfied: numpy in /usr/local/lib/python3.11/dist-packages (1.26.4)\n",
            "Requirement already satisfied: matplotlib in /usr/local/lib/python3.11/dist-packages (3.10.0)\n",
            "Requirement already satisfied: cloudpickle>=1.2.0 in /usr/local/lib/python3.11/dist-packages (from gymnasium) (3.1.1)\n",
            "Requirement already satisfied: typing-extensions>=4.3.0 in /usr/local/lib/python3.11/dist-packages (from gymnasium) (4.12.2)\n",
            "Requirement already satisfied: farama-notifications>=0.0.1 in /usr/local/lib/python3.11/dist-packages (from gymnasium) (0.0.4)\n",
            "Requirement already satisfied: filelock in /usr/local/lib/python3.11/dist-packages (from torch) (3.17.0)\n",
            "Requirement already satisfied: networkx in /usr/local/lib/python3.11/dist-packages (from torch) (3.4.2)\n",
            "Requirement already satisfied: jinja2 in /usr/local/lib/python3.11/dist-packages (from torch) (3.1.6)\n",
            "Requirement already satisfied: fsspec in /usr/local/lib/python3.11/dist-packages (from torch) (2024.10.0)\n",
            "Collecting nvidia-cuda-nvrtc-cu12==12.4.127 (from torch)\n",
            "  Downloading nvidia_cuda_nvrtc_cu12-12.4.127-py3-none-manylinux2014_x86_64.whl.metadata (1.5 kB)\n",
            "Collecting nvidia-cuda-runtime-cu12==12.4.127 (from torch)\n",
            "  Downloading nvidia_cuda_runtime_cu12-12.4.127-py3-none-manylinux2014_x86_64.whl.metadata (1.5 kB)\n",
            "Collecting nvidia-cuda-cupti-cu12==12.4.127 (from torch)\n",
            "  Downloading nvidia_cuda_cupti_cu12-12.4.127-py3-none-manylinux2014_x86_64.whl.metadata (1.6 kB)\n",
            "Collecting nvidia-cudnn-cu12==9.1.0.70 (from torch)\n",
            "  Downloading nvidia_cudnn_cu12-9.1.0.70-py3-none-manylinux2014_x86_64.whl.metadata (1.6 kB)\n",
            "Collecting nvidia-cublas-cu12==12.4.5.8 (from torch)\n",
            "  Downloading nvidia_cublas_cu12-12.4.5.8-py3-none-manylinux2014_x86_64.whl.metadata (1.5 kB)\n",
            "Collecting nvidia-cufft-cu12==11.2.1.3 (from torch)\n",
            "  Downloading nvidia_cufft_cu12-11.2.1.3-py3-none-manylinux2014_x86_64.whl.metadata (1.5 kB)\n",
            "Collecting nvidia-curand-cu12==10.3.5.147 (from torch)\n",
            "  Downloading nvidia_curand_cu12-10.3.5.147-py3-none-manylinux2014_x86_64.whl.metadata (1.5 kB)\n",
            "Collecting nvidia-cusolver-cu12==11.6.1.9 (from torch)\n",
            "  Downloading nvidia_cusolver_cu12-11.6.1.9-py3-none-manylinux2014_x86_64.whl.metadata (1.6 kB)\n",
            "Collecting nvidia-cusparse-cu12==12.3.1.170 (from torch)\n",
            "  Downloading nvidia_cusparse_cu12-12.3.1.170-py3-none-manylinux2014_x86_64.whl.metadata (1.6 kB)\n",
            "Requirement already satisfied: nvidia-nccl-cu12==2.21.5 in /usr/local/lib/python3.11/dist-packages (from torch) (2.21.5)\n",
            "Requirement already satisfied: nvidia-nvtx-cu12==12.4.127 in /usr/local/lib/python3.11/dist-packages (from torch) (12.4.127)\n",
            "Collecting nvidia-nvjitlink-cu12==12.4.127 (from torch)\n",
            "  Downloading nvidia_nvjitlink_cu12-12.4.127-py3-none-manylinux2014_x86_64.whl.metadata (1.5 kB)\n",
            "Requirement already satisfied: triton==3.1.0 in /usr/local/lib/python3.11/dist-packages (from torch) (3.1.0)\n",
            "Requirement already satisfied: sympy==1.13.1 in /usr/local/lib/python3.11/dist-packages (from torch) (1.13.1)\n",
            "Requirement already satisfied: mpmath<1.4,>=1.1.0 in /usr/local/lib/python3.11/dist-packages (from sympy==1.13.1->torch) (1.3.0)\n",
            "Requirement already satisfied: contourpy>=1.0.1 in /usr/local/lib/python3.11/dist-packages (from matplotlib) (1.3.1)\n",
            "Requirement already satisfied: cycler>=0.10 in /usr/local/lib/python3.11/dist-packages (from matplotlib) (0.12.1)\n",
            "Requirement already satisfied: fonttools>=4.22.0 in /usr/local/lib/python3.11/dist-packages (from matplotlib) (4.56.0)\n",
            "Requirement already satisfied: kiwisolver>=1.3.1 in /usr/local/lib/python3.11/dist-packages (from matplotlib) (1.4.8)\n",
            "Requirement already satisfied: packaging>=20.0 in /usr/local/lib/python3.11/dist-packages (from matplotlib) (24.2)\n",
            "Requirement already satisfied: pillow>=8 in /usr/local/lib/python3.11/dist-packages (from matplotlib) (11.1.0)\n",
            "Requirement already satisfied: pyparsing>=2.3.1 in /usr/local/lib/python3.11/dist-packages (from matplotlib) (3.2.1)\n",
            "Requirement already satisfied: python-dateutil>=2.7 in /usr/local/lib/python3.11/dist-packages (from matplotlib) (2.8.2)\n",
            "Requirement already satisfied: six>=1.5 in /usr/local/lib/python3.11/dist-packages (from python-dateutil>=2.7->matplotlib) (1.17.0)\n",
            "Requirement already satisfied: MarkupSafe>=2.0 in /usr/local/lib/python3.11/dist-packages (from jinja2->torch) (3.0.2)\n",
            "Downloading nvidia_cublas_cu12-12.4.5.8-py3-none-manylinux2014_x86_64.whl (363.4 MB)\n",
            "\u001b[2K   \u001b[90m━━━━━━━━━━━━━━━━━━━━━━━━━━━━━━━━━━━━━━━━\u001b[0m \u001b[32m363.4/363.4 MB\u001b[0m \u001b[31m1.7 MB/s\u001b[0m eta \u001b[36m0:00:00\u001b[0m\n",
            "\u001b[?25hDownloading nvidia_cuda_cupti_cu12-12.4.127-py3-none-manylinux2014_x86_64.whl (13.8 MB)\n",
            "\u001b[2K   \u001b[90m━━━━━━━━━━━━━━━━━━━━━━━━━━━━━━━━━━━━━━━━\u001b[0m \u001b[32m13.8/13.8 MB\u001b[0m \u001b[31m98.3 MB/s\u001b[0m eta \u001b[36m0:00:00\u001b[0m\n",
            "\u001b[?25hDownloading nvidia_cuda_nvrtc_cu12-12.4.127-py3-none-manylinux2014_x86_64.whl (24.6 MB)\n",
            "\u001b[2K   \u001b[90m━━━━━━━━━━━━━━━━━━━━━━━━━━━━━━━━━━━━━━━━\u001b[0m \u001b[32m24.6/24.6 MB\u001b[0m \u001b[31m69.9 MB/s\u001b[0m eta \u001b[36m0:00:00\u001b[0m\n",
            "\u001b[?25hDownloading nvidia_cuda_runtime_cu12-12.4.127-py3-none-manylinux2014_x86_64.whl (883 kB)\n",
            "\u001b[2K   \u001b[90m━━━━━━━━━━━━━━━━━━━━━━━━━━━━━━━━━━━━━━━━\u001b[0m \u001b[32m883.7/883.7 kB\u001b[0m \u001b[31m39.0 MB/s\u001b[0m eta \u001b[36m0:00:00\u001b[0m\n",
            "\u001b[?25hDownloading nvidia_cudnn_cu12-9.1.0.70-py3-none-manylinux2014_x86_64.whl (664.8 MB)\n",
            "\u001b[2K   \u001b[90m━━━━━━━━━━━━━━━━━━━━━━━━━━━━━━━━━━━━━━━━\u001b[0m \u001b[32m664.8/664.8 MB\u001b[0m \u001b[31m2.8 MB/s\u001b[0m eta \u001b[36m0:00:00\u001b[0m\n",
            "\u001b[?25hDownloading nvidia_cufft_cu12-11.2.1.3-py3-none-manylinux2014_x86_64.whl (211.5 MB)\n",
            "\u001b[2K   \u001b[90m━━━━━━━━━━━━━━━━━━━━━━━━━━━━━━━━━━━━━━━━\u001b[0m \u001b[32m211.5/211.5 MB\u001b[0m \u001b[31m5.0 MB/s\u001b[0m eta \u001b[36m0:00:00\u001b[0m\n",
            "\u001b[?25hDownloading nvidia_curand_cu12-10.3.5.147-py3-none-manylinux2014_x86_64.whl (56.3 MB)\n",
            "\u001b[2K   \u001b[90m━━━━━━━━━━━━━━━━━━━━━━━━━━━━━━━━━━━━━━━━\u001b[0m \u001b[32m56.3/56.3 MB\u001b[0m \u001b[31m12.7 MB/s\u001b[0m eta \u001b[36m0:00:00\u001b[0m\n",
            "\u001b[?25hDownloading nvidia_cusolver_cu12-11.6.1.9-py3-none-manylinux2014_x86_64.whl (127.9 MB)\n",
            "\u001b[2K   \u001b[90m━━━━━━━━━━━━━━━━━━━━━━━━━━━━━━━━━━━━━━━━\u001b[0m \u001b[32m127.9/127.9 MB\u001b[0m \u001b[31m7.5 MB/s\u001b[0m eta \u001b[36m0:00:00\u001b[0m\n",
            "\u001b[?25hDownloading nvidia_cusparse_cu12-12.3.1.170-py3-none-manylinux2014_x86_64.whl (207.5 MB)\n",
            "\u001b[2K   \u001b[90m━━━━━━━━━━━━━━━━━━━━━━━━━━━━━━━━━━━━━━━━\u001b[0m \u001b[32m207.5/207.5 MB\u001b[0m \u001b[31m6.2 MB/s\u001b[0m eta \u001b[36m0:00:00\u001b[0m\n",
            "\u001b[?25hDownloading nvidia_nvjitlink_cu12-12.4.127-py3-none-manylinux2014_x86_64.whl (21.1 MB)\n",
            "\u001b[2K   \u001b[90m━━━━━━━━━━━━━━━━━━━━━━━━━━━━━━━━━━━━━━━━\u001b[0m \u001b[32m21.1/21.1 MB\u001b[0m \u001b[31m55.6 MB/s\u001b[0m eta \u001b[36m0:00:00\u001b[0m\n",
            "\u001b[?25hInstalling collected packages: nvidia-nvjitlink-cu12, nvidia-curand-cu12, nvidia-cufft-cu12, nvidia-cuda-runtime-cu12, nvidia-cuda-nvrtc-cu12, nvidia-cuda-cupti-cu12, nvidia-cublas-cu12, nvidia-cusparse-cu12, nvidia-cudnn-cu12, nvidia-cusolver-cu12\n",
            "  Attempting uninstall: nvidia-nvjitlink-cu12\n",
            "    Found existing installation: nvidia-nvjitlink-cu12 12.5.82\n",
            "    Uninstalling nvidia-nvjitlink-cu12-12.5.82:\n",
            "      Successfully uninstalled nvidia-nvjitlink-cu12-12.5.82\n",
            "  Attempting uninstall: nvidia-curand-cu12\n",
            "    Found existing installation: nvidia-curand-cu12 10.3.6.82\n",
            "    Uninstalling nvidia-curand-cu12-10.3.6.82:\n",
            "      Successfully uninstalled nvidia-curand-cu12-10.3.6.82\n",
            "  Attempting uninstall: nvidia-cufft-cu12\n",
            "    Found existing installation: nvidia-cufft-cu12 11.2.3.61\n",
            "    Uninstalling nvidia-cufft-cu12-11.2.3.61:\n",
            "      Successfully uninstalled nvidia-cufft-cu12-11.2.3.61\n",
            "  Attempting uninstall: nvidia-cuda-runtime-cu12\n",
            "    Found existing installation: nvidia-cuda-runtime-cu12 12.5.82\n",
            "    Uninstalling nvidia-cuda-runtime-cu12-12.5.82:\n",
            "      Successfully uninstalled nvidia-cuda-runtime-cu12-12.5.82\n",
            "  Attempting uninstall: nvidia-cuda-nvrtc-cu12\n",
            "    Found existing installation: nvidia-cuda-nvrtc-cu12 12.5.82\n",
            "    Uninstalling nvidia-cuda-nvrtc-cu12-12.5.82:\n",
            "      Successfully uninstalled nvidia-cuda-nvrtc-cu12-12.5.82\n",
            "  Attempting uninstall: nvidia-cuda-cupti-cu12\n",
            "    Found existing installation: nvidia-cuda-cupti-cu12 12.5.82\n",
            "    Uninstalling nvidia-cuda-cupti-cu12-12.5.82:\n",
            "      Successfully uninstalled nvidia-cuda-cupti-cu12-12.5.82\n",
            "  Attempting uninstall: nvidia-cublas-cu12\n",
            "    Found existing installation: nvidia-cublas-cu12 12.5.3.2\n",
            "    Uninstalling nvidia-cublas-cu12-12.5.3.2:\n",
            "      Successfully uninstalled nvidia-cublas-cu12-12.5.3.2\n",
            "  Attempting uninstall: nvidia-cusparse-cu12\n",
            "    Found existing installation: nvidia-cusparse-cu12 12.5.1.3\n",
            "    Uninstalling nvidia-cusparse-cu12-12.5.1.3:\n",
            "      Successfully uninstalled nvidia-cusparse-cu12-12.5.1.3\n",
            "  Attempting uninstall: nvidia-cudnn-cu12\n",
            "    Found existing installation: nvidia-cudnn-cu12 9.3.0.75\n",
            "    Uninstalling nvidia-cudnn-cu12-9.3.0.75:\n",
            "      Successfully uninstalled nvidia-cudnn-cu12-9.3.0.75\n",
            "  Attempting uninstall: nvidia-cusolver-cu12\n",
            "    Found existing installation: nvidia-cusolver-cu12 11.6.3.83\n",
            "    Uninstalling nvidia-cusolver-cu12-11.6.3.83:\n",
            "      Successfully uninstalled nvidia-cusolver-cu12-11.6.3.83\n",
            "Successfully installed nvidia-cublas-cu12-12.4.5.8 nvidia-cuda-cupti-cu12-12.4.127 nvidia-cuda-nvrtc-cu12-12.4.127 nvidia-cuda-runtime-cu12-12.4.127 nvidia-cudnn-cu12-9.1.0.70 nvidia-cufft-cu12-11.2.1.3 nvidia-curand-cu12-10.3.5.147 nvidia-cusolver-cu12-11.6.1.9 nvidia-cusparse-cu12-12.3.1.170 nvidia-nvjitlink-cu12-12.4.127\n"
          ]
        }
      ],
      "source": [
        "pip install gymnasium torch numpy matplotlib"
      ]
    },
    {
      "cell_type": "code",
      "execution_count": null,
      "metadata": {},
      "outputs": [],
      "source": [
        "### Step 1: Setup and Dependencies\n",
        "\n",
        "# Install dependencies if needed (uncomment the next line)\n",
        "# !pip install gym torch numpy matplotlib\n",
        "\n",
        "import gymnasium as gym\n",
        "import random\n",
        "import numpy as np\n",
        "import torch\n",
        "import torch.nn as nn\n",
        "import torch.optim as optim\n",
        "import torch.nn.functional as F\n",
        "import matplotlib.pyplot as plt\n",
        "from collections import deque"
      ]
    },
    {
      "cell_type": "markdown",
      "metadata": {},
      "source": [
        "#### Understanding the Deep Q-Network (DQN) Architecture\n",
        "The neural network used in DQN acts as a function approximator to estimate the Q-values for given state-action pairs. This network helps the agent learn the optimal action selection policy.\n",
        "\n",
        "##### Architecture:\n",
        "1. **Input Layer**: Takes the state representation as input.\n",
        "   - The input to the network is a representation of the environment's current state.\n",
        "   - For example, in the **CartPole-v1** environment, the state consists of four values:\n",
        "     - Cart position (continuous value, e.g., `0.02` meters)\n",
        "     - Cart velocity (continuous value, e.g., `-0.05` m/s)\n",
        "     - Pole angle (continuous value, e.g., `0.03` radians)\n",
        "     - Pole velocity at tip (continuous value, e.g., `0.02` rad/s)\n",
        "   - These values are passed as a **4-dimensional vector** into the input layer.\n",
        "\n",
        "2. **Hidden Layers**: \n",
        "   - **First Linear Layer (fc1)**: Maps the input to a 24-dimensional space.\n",
        "   - **ReLU Activation**: Introduces non-linearity to capture complex relationships.\n",
        "   - **Second Linear Layer (fc2)**: Further transforms the 24-dimensional representation.\n",
        "   - **ReLU Activation**: Ensures non-linearity remains.\n",
        "   - **Output Layer (fc3)**: Maps the transformed feature representation to action space.\n",
        "\n",
        "Below is the implementation:"
      ]
    },
    {
      "cell_type": "code",
      "execution_count": 11,
      "metadata": {
        "id": "0HzIFfcuniG5"
      },
      "outputs": [],
      "source": [
        "### Step 2: Define the Neural Network\n",
        "\n",
        "class DQN(nn.Module):\n",
        "    def __init__(self, state_dim, action_dim):\n",
        "        super(DQN, self).__init__()\n",
        "        self.fc1 = nn.Linear(state_dim, 24)\n",
        "        self.fc2 = nn.Linear(24, 24)\n",
        "        self.fc3 = nn.Linear(24, action_dim)\n",
        "\n",
        "    def forward(self, x):\n",
        "        x = F.relu(self.fc1(x))\n",
        "        x = F.relu(self.fc2(x))\n",
        "        return self.fc3(x)\n",
        "\n"
      ]
    },
    {
      "cell_type": "markdown",
      "metadata": {},
      "source": [
        "##### Why 3 Linear and 2 ReLU Layers?\n",
        "- **Feature Extraction**: The first linear layer helps extract meaningful features from raw state input.\n",
        "- **Non-linearity for Better Learning**: The ReLU activation introduces non-linearity, allowing the network to learn complex patterns instead of just linear mappings.\n",
        "- **Further Feature Transformation**: The second linear layer refines extracted features, and the second ReLU activation ensures further complexity in representation.\n",
        "- **Output Mapping**: The final linear layer directly maps transformed features to Q-values corresponding to different actions.\n",
        "\n",
        "##### Why are ReLU Layers Encapsulated in a `forward` Method?\n",
        "- In PyTorch, the `forward` method defines how data passes through the network.\n",
        "- **What Does It Mean That Data Passes Through the Network?**\n",
        "  - When an input (state) is fed into the network, it undergoes a series of transformations via weighted computations and activation functions.\n",
        "  - The network's layers sequentially apply transformations: first mapping the input to hidden representations, then refining those representations, and finally producing Q-values.\n",
        "  - This step-by-step transformation process is what is meant by \"data passing through the network.\"\n",
        "- **Encapsulation Benefits**:\n",
        "  - Separating structure (layer definitions) from execution (how data is processed) makes the code modular and easier to maintain.\n",
        "  - The `forward` method ensures a clean, reusable implementation that allows easy modifications to the network's processing logic."
      ]
    },
    {
      "cell_type": "code",
      "execution_count": 12,
      "metadata": {
        "id": "eBbrSckYniG5"
      },
      "outputs": [],
      "source": [
        "### Step 3: Initialize the Environment\n",
        "\n",
        "env = gym.make('CartPole-v1')\n",
        "state_dim = env.observation_space.shape[0]\n",
        "action_dim = env.action_space.n\n",
        "\n",
        "# Set up DQN\n",
        "policy_net = DQN(state_dim, action_dim)\n",
        "target_net = DQN(state_dim, action_dim)\n",
        "target_net.load_state_dict(policy_net.state_dict())\n",
        "target_net.eval()\n",
        "\n",
        "optimizer = optim.Adam(policy_net.parameters(), lr=0.001)\n",
        "criterion = nn.MSELoss()\n",
        "\n",
        "epsilon = 1.0  # Exploration rate\n",
        "epsilon_decay = 0.995\n",
        "epsilon_min = 0.01\n",
        "gamma = 0.99  # Discount factor"
      ]
    },
    {
      "cell_type": "markdown",
      "metadata": {},
      "source": [
        "### Understanding Epsilon and Gamma in Step 3\n",
        "\n",
        "#### **Epsilon (ε) - Exploration Rate**\n",
        "- **`epsilon = 1.0`**: The agent starts with full exploration, meaning it selects random actions initially to discover different state-action pairs.\n",
        "- **`epsilon_decay = 0.995`**: With each training episode, `epsilon` is multiplied by `0.995`, reducing the probability of random actions gradually.\n",
        "- **`epsilon_min = 0.01`**: Ensures that exploration never completely stops. Even after many episodes, the agent will still take random actions **1% of the time** to avoid getting stuck in local optima.\n",
        "\n",
        "#### **Why It Matters?**\n",
        "- **The exploration-exploitation tradeoff**: Initially, the agent explores to gather information. Over time, it exploits what it has learned to maximize rewards.\n",
        "- If `epsilon` decays too quickly, the agent might settle on a suboptimal strategy before it has fully explored the environment.\n",
        "- If `epsilon_min` is too high, the agent may continue taking random actions even when it has learned a good strategy.\n",
        "\n",
        "#### **Gamma (γ) - Discount Factor**\n",
        "- **`gamma = 0.99`**: This controls how much future rewards matter compared to immediate rewards.\n",
        "\n",
        "#### **Why a High Gamma?**\n",
        "- Encourages the agent to **seek long-term rewards** rather than just maximizing short-term gains.\n",
        "- In the **CartPole-v1** environment, balancing the pole for a longer duration is the goal. A lower gamma (e.g., `0.5`) would make the agent focus only on short-term survival rather than learning how to extend episodes as much as possible.\n",
        "  \n",
        "#### **How These Parameters Affect Learning?**\n",
        "- In the training loop, `epsilon` decreases over time, shifting the agent from an **exploratory** phase (random moves) to an **exploitative** phase (choosing the best-known moves).\n",
        "- The discount factor `gamma` ensures that rewards received **several steps into the future** influence current decision-making, which is crucial for solving reinforcement learning problems where delayed rewards exist."
      ]
    },
    {
      "cell_type": "markdown",
      "metadata": {},
      "source": [
        "##### How This Helps DQN Implementation\n",
        "- **Approximating Q-Values**: In the **CartPole-v1** use case, the Q-value represents the expected cumulative reward for taking an action in a given state. The network predicts Q-values for all possible actions, and the agent selects the action with the highest Q-value to maximize long-term reward.\n",
        "- **Efficient Convergence**: Convergence is achieved when the network stabilizes its Q-value predictions. A **gradient** (the derivative of the loss function with respect to network parameters) helps update weights through backpropagation. ReLU activation prevents **vanishing gradients**, ensuring the network learns effectively.\n",
        "- **Balancing Complexity and Performance**: A deeper network may overfit, meaning it memorizes specific scenarios rather than generalizing to new ones. Too shallow a network may fail to capture essential features. The current setup balances learning capacity and computational efficiency, ensuring good performance in unseen states."
      ]
    },
    {
      "cell_type": "code",
      "execution_count": 13,
      "metadata": {
        "id": "ikRMLeBMniG6"
      },
      "outputs": [],
      "source": [
        "### Step 4: Preprocess the Input\n",
        "\n",
        "def preprocess_state(state):\n",
        "    return torch.tensor(state, dtype=torch.float32).unsqueeze(0)"
      ]
    },
    {
      "cell_type": "code",
      "execution_count": 14,
      "metadata": {
        "id": "ydYB6dnCniG6"
      },
      "outputs": [],
      "source": [
        "### Step 5: Experience Replay Buffer\n",
        "\n",
        "replay_buffer = deque(maxlen=2000)\n",
        "\n",
        "def add_experience(state, action, reward, next_state, done):\n",
        "    replay_buffer.append((state, action, reward, next_state, done))\n",
        "\n",
        "def sample_experiences(batch_size=32):\n",
        "    return random.sample(replay_buffer, batch_size)\n"
      ]
    },
    {
      "cell_type": "markdown",
      "metadata": {},
      "source": [
        "\n",
        "### Understanding the Replay Buffer in DQN\n",
        "\n",
        "A **Replay Buffer** (also known as Experience Replay) is a crucial component of Deep Q-Networks (DQN). It helps improve learning efficiency and stability by storing past experiences and reusing them during training.\n",
        "\n",
        "#### What is the Replay Buffer?\n",
        "- It is a memory buffer that stores **past experiences** in the form of `(state, action, reward, next_state, done)` tuples.\n",
        "- Instead of learning from consecutive experiences, the agent samples random mini-batches from this buffer to **break correlation between consecutive experiences**.\n",
        "- This prevents the network from overfitting to recent experiences and helps it learn generalizable policies.\n",
        "\n",
        "#### Why is the Replay Buffer Important?\n",
        "- **Stabilizes Learning**: Since updates are based on past experiences rather than just the most recent one, training becomes more stable and prevents catastrophic forgetting.\n",
        "- **Increases Data Efficiency**: Experiences are reused multiple times, making better use of collected data.\n",
        "- **Reduces Correlation in Training Data**: Sampling random experiences breaks the temporal correlation of consecutive states, allowing the neural network to generalize better.\n",
        "\n",
        "#### How It Works in This Implementation:\n",
        "1. The buffer stores a fixed number of the most recent experiences.\n",
        "2. During training, a mini-batch of experiences is randomly sampled from the buffer.\n",
        "3. The network is trained on this mini-batch instead of the latest experience, leading to better convergence and generalization.\n",
        "\n",
        "This technique was introduced in the **Deep Q-Networks (DQN) paper by Mnih et al. (2015)**, which showed that using a replay buffer significantly improved performance and stability in reinforcement learning environments."
      ]
    },
    {
      "cell_type": "code",
      "execution_count": 15,
      "metadata": {
        "id": "ViQ-80FYniG6"
      },
      "outputs": [],
      "source": [
        "### Step 6: Train the DQN\n",
        "\n",
        "def train(batch_size=32):\n",
        "    if len(replay_buffer) < batch_size:\n",
        "        return\n",
        "\n",
        "    batch = sample_experiences(batch_size)\n",
        "    states, actions, rewards, next_states, dones = zip(*batch)\n",
        "\n",
        "    states = torch.cat([preprocess_state(s) for s in states])\n",
        "    actions = torch.tensor(actions).unsqueeze(1)\n",
        "    rewards = torch.tensor(rewards, dtype=torch.float32).unsqueeze(1)\n",
        "    next_states = torch.cat([preprocess_state(s) for s in next_states])\n",
        "    dones = torch.tensor(dones, dtype=torch.float32).unsqueeze(1)\n",
        "\n",
        "    q_values = policy_net(states).gather(1, actions)\n",
        "    next_q_values = target_net(next_states).max(1, keepdim=True)[0].detach()\n",
        "    target_q_values = rewards + gamma * next_q_values * (1 - dones)\n",
        "\n",
        "    loss = criterion(q_values, target_q_values)\n",
        "    optimizer.zero_grad()\n",
        "    loss.backward()\n",
        "    optimizer.step()\n"
      ]
    },
    {
      "cell_type": "markdown",
      "metadata": {},
      "source": [
        "### Understanding Loss and Optimization in Step 6: Train the DQN\n",
        "\n",
        "#### **Loss Calculation (`loss`)**\n",
        "- The **loss function** measures how far the predicted Q-values are from the target Q-values.\n",
        "- The Mean Squared Error (MSE) loss is used:\n",
        "  \n",
        "  ```python\n",
        "  loss = criterion(q_values, target_q_values)\n",
        "  ```\n",
        "- The smaller the loss, the better the model's predictions align with the optimal Q-values.\n",
        "\n",
        "#### **Gradient Reset (`optimizer.zero_grad()`)**\n",
        "- Before backpropagation, gradients from previous steps are cleared using:\n",
        "  \n",
        "  ```python\n",
        "  optimizer.zero_grad()\n",
        "  ```\n",
        "- If not reset, gradients will accumulate and negatively affect training.\n",
        "\n",
        "#### **Backward Propagation (`loss.backward()`)**\n",
        "- Computes the gradient of the loss with respect to the model parameters:\n",
        "  \n",
        "  ```python\n",
        "  loss.backward()\n",
        "  ```\n",
        "- This calculates how each weight contributes to the error, enabling the network to adjust weights properly.\n",
        "\n",
        "#### **Optimization Step (`optimizer.step()`)**\n",
        "- Applies the computed gradients to update the model’s parameters:\n",
        "  \n",
        "  ```python\n",
        "  optimizer.step()\n",
        "  ```\n",
        "- This is where the learning happens, adjusting the weights to minimize future errors.\n",
        "\n",
        "By following these steps in **Step 6: Train the DQN**, the model continuously improves its Q-value predictions, leading to better decision-making over time.\n"
      ]
    },
    {
      "cell_type": "code",
      "execution_count": 16,
      "metadata": {
        "colab": {
          "base_uri": "https://localhost:8080/"
        },
        "id": "hHV873KzniG6",
        "outputId": "1635bb3e-efd2-4e0d-8fd8-d15d56a1c721"
      },
      "outputs": [
        {
          "name": "stdout",
          "output_type": "stream",
          "text": [
            "Episode 0: Reward = 25.0\n",
            "Episode 50: Reward = 15.0\n",
            "Episode 100: Reward = 89.0\n",
            "Episode 150: Reward = 117.0\n",
            "Episode 200: Reward = 102.0\n",
            "Episode 250: Reward = 162.0\n",
            "Episode 300: Reward = 157.0\n",
            "Episode 350: Reward = 173.0\n",
            "Episode 400: Reward = 288.0\n",
            "Episode 450: Reward = 157.0\n"
          ]
        }
      ],
      "source": [
        "### Step 7: Train the Agent\n",
        "\n",
        "num_episodes = 500\n",
        "batch_size = 32\n",
        "sync_target_steps = 10\n",
        "episode_rewards = []\n",
        "\n",
        "for episode in range(num_episodes):\n",
        "    # The env.reset() method now returns 2 values: obs and info\n",
        "    # We only need obs for now\n",
        "    state, _ = env.reset()\n",
        "    #state = state[0] if isinstance(state, tuple) else state # This line is no longer needed\n",
        "    total_reward = 0\n",
        "    done = False\n",
        "\n",
        "    while not done:\n",
        "        if random.random() < epsilon:\n",
        "            action = env.action_space.sample()\n",
        "        else:\n",
        "            with torch.no_grad():\n",
        "                action = torch.argmax(policy_net(preprocess_state(state))).item()\n",
        "\n",
        "        # The env.step() method returns 5 values now: obs, reward, terminated, truncated, info\n",
        "        # We only need the first 3 and info for now\n",
        "        # If using an older version of Gym, this line may need to be changed back to the following:\n",
        "        # next_state, reward, done, info = env.step(action)\n",
        "        next_state, reward, terminated, truncated, info = env.step(action)\n",
        "\n",
        "        # Set done to True if either terminated or truncated is True\n",
        "        done = terminated or truncated\n",
        "\n",
        "        add_experience(state, action, reward, next_state, done)\n",
        "        state = next_state\n",
        "        total_reward += reward\n",
        "\n",
        "        train(batch_size)\n",
        "\n",
        "    epsilon = max(epsilon_min, epsilon * epsilon_decay)\n",
        "    episode_rewards.append(total_reward)\n",
        "\n",
        "    if episode % sync_target_steps == 0:\n",
        "        target_net.load_state_dict(policy_net.state_dict())\n",
        "\n",
        "    if episode % 50 == 0:\n",
        "        print(f\"Episode {episode}: Reward = {total_reward}\")"
      ]
    },
    {
      "cell_type": "code",
      "execution_count": 17,
      "metadata": {
        "colab": {
          "base_uri": "https://localhost:8080/",
          "height": 544
        },
        "id": "5qhmbBdXniG6",
        "outputId": "2c5ba71d-c89f-48ba-ae13-eaf4c1b93d99"
      },
      "outputs": [
        {
          "data": {
            "image/png": "[encoded data removed]",
            "text/plain": [
              "<Figure size 640x480 with 1 Axes>"
            ]
          },
          "metadata": {},
          "output_type": "display_data"
        },
        {
          "name": "stdout",
          "output_type": "stream",
          "text": [
            "Total Reward: 336.0\n"
          ]
        },
        {
          "name": "stderr",
          "output_type": "stream",
          "text": [
            "/usr/local/lib/python3.11/dist-packages/gymnasium/envs/classic_control/cartpole.py:250: UserWarning: \u001b[33mWARN: You are calling render method without specifying any render mode. You can specify the render_mode at initialization, e.g. gym.make(\"CartPole-v1\", render_mode=\"rgb_array\")\u001b[0m\n",
            "  gym.logger.warn(\n"
          ]
        }
      ],
      "source": [
        "### Step 8: Visualize the Results\n",
        "\n",
        "plt.plot(episode_rewards)\n",
        "plt.xlabel('Episode')\n",
        "plt.ylabel('Total Reward')\n",
        "plt.title('Training Progress')\n",
        "plt.show()\n",
        "\n",
        "### Step 9: Play the Game with the Trained Model\n",
        "\n",
        "def play():\n",
        "    state = env.reset()\n",
        "    state = state[0] if isinstance(state, tuple) else state\n",
        "    done = False\n",
        "    total_reward = 0\n",
        "\n",
        "    while not done:\n",
        "        env.render()\n",
        "        with torch.no_grad():\n",
        "            action = torch.argmax(policy_net(preprocess_state(state))).item()\n",
        "        state, reward, done, _, _ = env.step(action)\n",
        "        total_reward += reward\n",
        "\n",
        "    env.close()\n",
        "    print(f'Total Reward: {total_reward}')\n",
        "\n",
        "play()\n"
      ]
    }
  ],
  "metadata": {
    "colab": {
      "provenance": []
    },
    "kernelspec": {
      "display_name": "Python 3",
      "name": "python3"
    },
    "language_info": {
      "name": "python"
    }
  },
  "nbformat": 4,
  "nbformat_minor": 0
}
