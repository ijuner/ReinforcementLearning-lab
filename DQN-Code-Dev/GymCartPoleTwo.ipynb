{
  "nbformat": 4,
  "nbformat_minor": 0,
  "metadata": {
    "colab": {
      "provenance": [],
      "gpuType": "T4"
    },
    "kernelspec": {
      "name": "python3",
      "display_name": "Python 3"
    },
    "language_info": {
      "name": "python"
    },
    "accelerator": "GPU"
  },
  "cells": [
    {
      "cell_type": "markdown",
      "source": [
        "# CartPole Environment\n",
        "\n",
        "#### NOTE: This version of the demo was tested and confirmed to run in Google Colab\n",
        "\n",
        "The **CartPole environment** is a classic problem in reinforcement learning and control theory. It involves a cart that can move along a frictionless track with a pole attached to it by an un-actuated joint. The goal is to balance the pole upright by applying forces to the cart to move it left or right.\n",
        "\n",
        "### Key Features of the CartPole Environment:\n",
        "- **State Space**: The state of the environment is represented by four continuous values:\n",
        "  - **Cart Position**: The position of the cart on the track.\n",
        "  - **Cart Velocity**: The velocity of the cart.\n",
        "  - **Pole Angle**: The angle of the pole with respect to the vertical.\n",
        "  - **Pole Velocity at Tip**: The velocity of the tip of the pole.\n",
        "\n",
        "- **Action Space**: The agent can take one of two discrete actions:\n",
        "  - **Push cart to the left**.\n",
        "  - **Push cart to the right**.\n",
        "\n",
        "- **Rewards**: The agent receives a reward of +1 for every time step the pole remains upright. The episode ends if the pole falls over or the cart moves too far from the center.\n",
        "\n",
        "### Graphical Capabilities:\n",
        "Graphically, the CartPole environment can be rendered to visualize the cart and pole dynamics. This helps in understanding how the agent's actions affect the environment. The graphical representation shows:\n",
        "- The cart moving along the track.\n",
        "- The pole attached to the cart, swinging as the cart moves.\n",
        "- The effects of the agent's actions in real-time, making it easier to debug and analyze the agent's performance."
      ],
      "metadata": {
        "id": "Itm7hBJIusXC"
      }
    },
    {
      "cell_type": "code",
      "execution_count": 1,
      "metadata": {
        "colab": {
          "base_uri": "https://localhost:8080/"
        },
        "id": "vpfHjb3F8HnP",
        "outputId": "b480b83a-6272-476b-d70e-6f24bada9893"
      },
      "outputs": [
        {
          "output_type": "stream",
          "name": "stdout",
          "text": [
            "Requirement already satisfied: pyvirtualdisplay==3.0 in /usr/local/lib/python3.11/dist-packages (3.0)\n",
            "Requirement already satisfied: gymnasium[classic_control] in /usr/local/lib/python3.11/dist-packages (1.1.1)\n",
            "Requirement already satisfied: numpy>=1.21.0 in /usr/local/lib/python3.11/dist-packages (from gymnasium[classic_control]) (1.26.4)\n",
            "Requirement already satisfied: cloudpickle>=1.2.0 in /usr/local/lib/python3.11/dist-packages (from gymnasium[classic_control]) (3.1.1)\n",
            "Requirement already satisfied: typing-extensions>=4.3.0 in /usr/local/lib/python3.11/dist-packages (from gymnasium[classic_control]) (4.12.2)\n",
            "Requirement already satisfied: farama-notifications>=0.0.1 in /usr/local/lib/python3.11/dist-packages (from gymnasium[classic_control]) (0.0.4)\n",
            "Requirement already satisfied: pygame>=2.1.3 in /usr/local/lib/python3.11/dist-packages (from gymnasium[classic_control]) (2.6.1)\n"
          ]
        }
      ],
      "source": [
        "!pip install pyvirtualdisplay==3.0 gymnasium[classic_control]"
      ]
    },
    {
      "cell_type": "code",
      "source": [
        "!apt-get update\n",
        "!apt-get install -y xvfb"
      ],
      "metadata": {
        "colab": {
          "base_uri": "https://localhost:8080/"
        },
        "id": "RNs6-joZnCDC",
        "outputId": "8a7d2a3d-602b-4a2a-9f91-5f8a4a17147d"
      },
      "execution_count": 2,
      "outputs": [
        {
          "output_type": "stream",
          "name": "stdout",
          "text": [
            "\r0% [Working]\r            \rHit:1 https://cloud.r-project.org/bin/linux/ubuntu jammy-cran40/ InRelease\n",
            "Hit:2 https://developer.download.nvidia.com/compute/cuda/repos/ubuntu2204/x86_64  InRelease\n",
            "Hit:3 http://archive.ubuntu.com/ubuntu jammy InRelease\n",
            "Hit:4 http://security.ubuntu.com/ubuntu jammy-security InRelease\n",
            "Hit:5 http://archive.ubuntu.com/ubuntu jammy-updates InRelease\n",
            "Hit:6 http://archive.ubuntu.com/ubuntu jammy-backports InRelease\n",
            "Hit:7 https://r2u.stat.illinois.edu/ubuntu jammy InRelease\n",
            "Hit:8 https://ppa.launchpadcontent.net/deadsnakes/ppa/ubuntu jammy InRelease\n",
            "Hit:9 https://ppa.launchpadcontent.net/graphics-drivers/ppa/ubuntu jammy InRelease\n",
            "Hit:10 https://ppa.launchpadcontent.net/ubuntugis/ppa/ubuntu jammy InRelease\n",
            "Reading package lists... Done\n",
            "W: Skipping acquire of configured file 'main/source/Sources' as repository 'https://r2u.stat.illinois.edu/ubuntu jammy InRelease' does not seem to provide it (sources.list entry misspelt?)\n",
            "Reading package lists... Done\n",
            "Building dependency tree... Done\n",
            "Reading state information... Done\n",
            "xvfb is already the newest version (2:21.1.4-2ubuntu1.7~22.04.13).\n",
            "0 upgraded, 0 newly installed, 0 to remove and 31 not upgraded.\n"
          ]
        }
      ]
    },
    {
      "cell_type": "code",
      "source": [
        "%env PYTHON_FLAGS=-Xfrozen_modules=off"
      ],
      "metadata": {
        "colab": {
          "base_uri": "https://localhost:8080/"
        },
        "id": "GtGwXD8YnhUI",
        "outputId": "8e05b86d-361f-4554-d2a1-6a360f6b71d4"
      },
      "execution_count": 3,
      "outputs": [
        {
          "output_type": "stream",
          "name": "stdout",
          "text": [
            "env: PYTHON_FLAGS=-Xfrozen_modules=off\n"
          ]
        }
      ]
    },
    {
      "cell_type": "markdown",
      "source": [
        "##### This demo randomly selects an action from the set of all possible actions that can be taken in the environment. Think of it like this: the environment has a list of things you can do (the action space), and this function picks one of those things at random.\n",
        "\n",
        "**In More Detail**\n",
        "\n",
        "- env: This refers to your Gym environment object, which you created with\n",
        "\n",
        "    - *env = gym.make('CartPole-v1', render_mode='rgb_array') # It represents the CartPole simulation.*\n",
        "\n",
        "- action_space: This is an attribute of the environment object. It describes the format and valid values for actions that can be taken in the environment. For the CartPole environment, the action_space is typically Discrete(2), which means there are two discrete actions:\n",
        "\n",
        "    - 0: Push the cart to the left\n",
        "    - 1: Push the cart to the right\n",
        "\n",
        "- sample(): This is a method of the action_space object. It randomly samples an action from the possible actions defined by the action_space. In the case of CartPole, it will return either 0 or 1."
      ],
      "metadata": {
        "id": "ARBhvKSnvEZE"
      }
    },
    {
      "cell_type": "code",
      "source": [
        "import gymnasium as gym\n",
        "from pyvirtualdisplay import Display\n",
        "from IPython import display as ipythondisplay\n",
        "from PIL import Image\n",
        "import time\n",
        "\n",
        "display = Display(visible=0, size=(400, 300))\n",
        "display.start()\n",
        "\n",
        "env = gym.make('CartPole-v1', render_mode='rgb_array')\n",
        "\n",
        "state, info = env.reset()\n",
        "for _ in range(100):\n",
        "    action = env.action_space.sample()\n",
        "    state, reward, terminated, truncated, info = env.step(action)\n",
        "    try:\n",
        "       img = env.render()\n",
        "       if img is not None:\n",
        "           img = Image.fromarray(img)\n",
        "           ipythondisplay.display(img)\n",
        "           ipythondisplay.clear_output(wait=True)\n",
        "           time.sleep(0.5)\n",
        "    except Exception as e:\n",
        "       print(f\"Error during rendering: {e}\")\n",
        "\n",
        "display.stop()\n",
        "env.close()"
      ],
      "metadata": {
        "colab": {
          "base_uri": "https://localhost:8080/",
          "height": 417
        },
        "id": "stg2X0mimu2J",
        "outputId": "271f0a4e-e7e3-4235-96a2-d463ef7a64e2"
      },
      "execution_count": null,
      "outputs": [
        {
          "output_type": "display_data",
          "data": {
            "text/plain": [
              "<PIL.Image.Image image mode=RGB size=600x400>"
            ],
            "image/png": "[encoded data removed]",
            "image/jpeg": "[encoded data removed]"
          },
          "metadata": {}
        }
      ]
    }
  ]
}