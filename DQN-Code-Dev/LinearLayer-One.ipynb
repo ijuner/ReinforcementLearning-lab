{
  "cells": [
    {
      "cell_type": "code",
      "execution_count": 1,
      "metadata": {
        "id": "CDTdXvFNMJgj"
      },
      "outputs": [
        {
          "name": "stderr",
          "output_type": "stream",
          "text": [
            "c:\\StudentWork\\Code\\DQN-Code\\.venv\\Lib\\site-packages\\torch\\_subclasses\\functional_tensor.py:275: UserWarning: Failed to initialize NumPy: No module named 'numpy' (Triggered internally at C:\\actions-runner\\_work\\pytorch\\pytorch\\pytorch\\torch\\csrc\\utils\\tensor_numpy.cpp:81.)\n",
            "  cpu = _conversion_method_template(device=torch.device(\"cpu\"))\n"
          ]
        }
      ],
      "source": [
        "import torch\n",
        "import torch.nn as nn"
      ]
    },
    {
      "cell_type": "markdown",
      "metadata": {},
      "source": [
        "![Linear Layer One](./images/LinearLayerOne.png)"
      ]
    },
    {
      "cell_type": "code",
      "execution_count": null,
      "metadata": {
        "id": "RqKouBUwZdC_"
      },
      "outputs": [],
      "source": [
        "# Define your desired values for the weight matrix and bias\n",
        "custom_weight = torch.tensor([3.0])  # 1x1 weight matrix\n",
        "custom_bias = torch.tensor([0.0])  # Bias value\n",
        "\n",
        "# Create the linear layer\n",
        "layer = nn.Linear(1, 1)  # Input size 1, output size 1\n",
        "\n",
        "# Set the weight and bias manually\n",
        "with torch.no_grad():\n",
        "    layer.weight.copy_(custom_weight)\n",
        "    layer.bias.copy_(custom_bias)\n",
        "\n",
        "# Now you can use 'layer' with your custom values"
      ]
    },
    {
      "cell_type": "code",
      "execution_count": 4,
      "metadata": {
        "colab": {
          "base_uri": "https://localhost:8080/"
        },
        "collapsed": true,
        "id": "H64Tx93qZ2Ej",
        "outputId": "6219f78e-90ff-4f73-97a1-ac079e97b5df"
      },
      "outputs": [
        {
          "name": "stdout",
          "output_type": "stream",
          "text": [
            "Weight Matrix:\n",
            "Parameter containing:\n",
            "tensor([[3.]], requires_grad=True)\n",
            "\n",
            "Bias Vector:\n",
            "Parameter containing:\n",
            "tensor([0.], requires_grad=True)\n"
          ]
        }
      ],
      "source": [
        "# Print the weight matrix\n",
        "print(\"Weight Matrix:\")\n",
        "print(layer.weight)\n",
        "\n",
        "# Print the bias vector\n",
        "print(\"\\nBias Vector:\")\n",
        "print(layer.bias)"
      ]
    },
    {
      "cell_type": "code",
      "execution_count": 5,
      "metadata": {
        "id": "TXkxwW3ia1vZ"
      },
      "outputs": [],
      "source": [
        "# Create an input tensor\n",
        "input_tensor = torch.tensor([[4.0]])  # Example input"
      ]
    },
    {
      "cell_type": "code",
      "execution_count": 9,
      "metadata": {
        "colab": {
          "base_uri": "https://localhost:8080/"
        },
        "id": "Ap-4_0Z_bQPm",
        "outputId": "5869aff1-d2bb-4088-be9c-6e7e67a99ee8"
      },
      "outputs": [
        {
          "name": "stdout",
          "output_type": "stream",
          "text": [
            "y=tensor([[12.]], grad_fn=<AddmmBackward0>)\n"
          ]
        }
      ],
      "source": [
        "# Calculate the output\n",
        "output = layer(input_tensor)\n",
        "print(f\"y={output}\")"
      ]
    },
    {
      "cell_type": "markdown",
      "metadata": {},
      "source": [
        "## Exercises\n",
        "Run the code again, with these values:\n",
        "\n",
        "<table>\n",
        "  <tr>\n",
        "    <td><img src=\"./images/LinearLayerTwo.png\" alt=\"Linear Layer Two\" width=\"300\"></td>\n",
        "    <td><img src=\"./images/LinearLayerThree.png\" alt=\"Linear Layer Three\" width=\"300\"></td>\n",
        "  </tr>\n",
        "</table>"
      ]
    }
  ],
  "metadata": {
    "colab": {
      "provenance": []
    },
    "kernelspec": {
      "display_name": ".venv",
      "language": "python",
      "name": "python3"
    },
    "language_info": {
      "codemirror_mode": {
        "name": "ipython",
        "version": 3
      },
      "file_extension": ".py",
      "mimetype": "text/x-python",
      "name": "python",
      "nbconvert_exporter": "python",
      "pygments_lexer": "ipython3",
      "version": "3.11.9"
    }
  },
  "nbformat": 4,
  "nbformat_minor": 0
}
